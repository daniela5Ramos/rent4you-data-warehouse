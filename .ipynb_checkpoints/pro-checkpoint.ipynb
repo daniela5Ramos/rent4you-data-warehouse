{
 "cells": [
  {
   "cell_type": "code",
   "execution_count": 1,
   "id": "09dc1896-19a7-4440-ab62-11ce6b206448",
   "metadata": {},
   "outputs": [],
   "source": [
    "import pandas as pd\n",
    "import numpy as np\n"
   ]
  },
  {
   "cell_type": "code",
   "execution_count": 2,
   "id": "b5fc7ae1-6518-4266-9046-c36b70c5a213",
   "metadata": {},
   "outputs": [],
   "source": [
    "dim_tiempo = pd.read_csv('data/dim_tiempo.csv')\n",
    "dim_cliente = pd.read_csv('data/dim_cliente.csv')\n",
    "dim_sucursal = pd.read_csv('data/dim_sucursal.csv')\n",
    "dim_vehículo = pd.read_csv('data/dim_vehículo.csv')\n",
    "dim_empleado = pd.read_csv('data/dim_empleado.csv')\n",
    "fact_ventas = pd.read_csv('data/fact_ventas.csv')\n"
   ]
  },
  {
   "cell_type": "code",
   "execution_count": 4,
   "id": "c7f678a5-709c-4bee-a273-cb63706f5573",
   "metadata": {},
   "outputs": [],
   "source": [
    "import os"
   ]
  },
  {
   "cell_type": "code",
   "execution_count": 5,
   "id": "dd5d666a-d4d6-4ffe-bf3d-dac47148ed35",
   "metadata": {},
   "outputs": [],
   "source": [
    "if not os.path.exists('outputs'):\n",
    "    os.makedirs('outputs')"
   ]
  },
  {
   "cell_type": "code",
   "execution_count": 6,
   "id": "673d6cbf-d16b-44df-916b-f6a65d2416ea",
   "metadata": {},
   "outputs": [],
   "source": [
    "\n",
    "ventas_por_sucursal = fact_ventas.groupby('SucursalID').agg({\n",
    "    'CostoTotal': 'sum',\n",
    "    'VentaID': 'count'\n",
    "}).reset_index()\n",
    "\n",
    "ventas_por_sucursal.columns = ['SucursalID', 'TotalVentas', 'CantidadVentas']\n",
    "\n",
    "ventas_por_sucursal = ventas_por_sucursal.merge(dim_sucursal, on='SucursalID', how='left')\n",
    "\n",
    "ventas_por_sucursal.to_csv('outputs/ventas_sucursal_preprocesado.csv', index=False)\n"
   ]
  },
  {
   "cell_type": "code",
   "execution_count": null,
   "id": "41ba8017-9944-4215-a14e-026975ac18b9",
   "metadata": {},
   "outputs": [],
   "source": []
  }
 ],
 "metadata": {
  "kernelspec": {
   "display_name": "Python 3 (ipykernel)",
   "language": "python",
   "name": "python3"
  },
  "language_info": {
   "codemirror_mode": {
    "name": "ipython",
    "version": 3
   },
   "file_extension": ".py",
   "mimetype": "text/x-python",
   "name": "python",
   "nbconvert_exporter": "python",
   "pygments_lexer": "ipython3",
   "version": "3.12.0"
  }
 },
 "nbformat": 4,
 "nbformat_minor": 5
}
