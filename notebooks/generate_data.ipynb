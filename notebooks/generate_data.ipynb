{
 "cells": [
  {
   "cell_type": "code",
   "execution_count": 1,
   "id": "425d4e4d-36f2-4c7e-a671-b528d77265ac",
   "metadata": {},
   "outputs": [],
   "source": [
    "import pandas as pd\n",
    "import numpy as np\n",
    "from datetime import datetime, timedelta\n",
    "import random"
   ]
  },
  {
   "cell_type": "code",
   "execution_count": 2,
   "id": "416af866-0a45-4ee9-80a0-a07dc6455c1c",
   "metadata": {},
   "outputs": [],
   "source": [
    "start_date = datetime(2024, 1, 1)\n",
    "dates = [start_date + timedelta(days=i) for i in range(100)]\n",
    "\n",
    "dim_tiempo = pd.DataFrame({\n",
    "    'FechaID': range(1, 101),\n",
    "    'Fecha': dates,\n",
    "    'Año': [date.year for date in dates],\n",
    "    'Mes': [date.month for date in dates],\n",
    "    'Día': [date.day for date in dates],\n",
    "    'Trimestre': [((date.month-1)//3)+1 for date in dates]\n",
    "})\n",
    "\n",
    "\n",
    "dim_tiempo.to_csv('dim_tiempo.csv', index=False)\n"
   ]
  },
  {
   "cell_type": "code",
   "execution_count": 3,
   "id": "12cb0278-b583-47f5-b66e-573ff2d859c7",
   "metadata": {},
   "outputs": [],
   "source": [
    "nombres = ['Juan', 'Ana', 'Luis', 'María', 'Carlos', 'Sofía', 'Pedro', 'Laura']\n",
    "apellidos = ['Pérez', 'Gómez', 'Martínez', 'López', 'Sánchez', 'Ramírez', 'Hernández', 'Díaz']\n",
    "ciudades = ['Madrid', 'Barcelona', 'Sevilla', 'Valencia', 'Bilbao', 'Málaga', 'Zaragoza', 'Murcia']\n",
    "paises = ['España']\n",
    "\n",
    "random.seed(42)\n",
    "clientes = {\n",
    "    'ClienteID': range(1, 101),\n",
    "    'Nombre': [random.choice(nombres) for _ in range(100)],\n",
    "    'Apellido': [random.choice(apellidos) for _ in range(100)],\n",
    "    'FechaNacimiento': [datetime.strftime(datetime(1960, 1, 1) + timedelta(days=random.randint(0, 20000)), '%Y-%m-%d') for _ in range(100)],\n",
    "    'Genero': [random.choice(['M', 'F']) for _ in range(100)],\n",
    "    'Dirección': [f'Calle {random.randint(1, 100)}' for _ in range(100)],\n",
    "    'Ciudad': [random.choice(ciudades) for _ in range(100)],\n",
    "    'País': [random.choice(paises) for _ in range(100)],\n",
    "    'Email': [f'cliente{random.randint(1, 100)}@example.com' for _ in range(100)]\n",
    "}\n",
    "\n",
    "dim_cliente = pd.DataFrame(clientes)\n",
    "dim_cliente.to_csv('dim_cliente.csv', index=False)\n"
   ]
  },
  {
   "cell_type": "code",
   "execution_count": 4,
   "id": "96a17659-e5e1-4351-8480-5697c58dc2e2",
   "metadata": {},
   "outputs": [],
   "source": [
    "# Datos de ejemplo\n",
    "sucursales = {\n",
    "    'SucursalID': range(1, 11),\n",
    "    'Nombre': [f'Sucursal {chr(65+i)}' for i in range(10)],\n",
    "    'Ubicación': [random.choice(ciudades) for _ in range(10)],\n",
    "    'GerenteID': range(101, 111)\n",
    "}\n",
    "\n",
    "# Crear DataFrame y guardar en CSV\n",
    "dim_sucursal = pd.DataFrame(sucursales)\n",
    "dim_sucursal.to_csv('dim_sucursal.csv', index=False)\n"
   ]
  },
  {
   "cell_type": "code",
   "execution_count": 7,
   "id": "ef40aa0c-bd5a-4804-8f59-888704d37f11",
   "metadata": {},
   "outputs": [],
   "source": [
    "# Datos de ejemplo\n",
    "tipos = ['Coche', 'Moto', 'Caravana', 'Furgoneta']\n",
    "marcas = ['Toyota', 'Honda', 'Volkswagen', 'Ford', 'BMW', 'Yamaha']\n",
    "modelos = ['Modelo A', 'Modelo B', 'Modelo C', 'Modelo D', 'Modelo E']\n",
    "\n",
    "# Generar datos\n",
    "vehículos = {\n",
    "    'VehículoID': range(1, 51),\n",
    "    'Tipo': [random.choice(tipos) for _ in range(50)],\n",
    "    'Marca': [random.choice(marcas) for _ in range(50)],\n",
    "    'Modelo': [random.choice(modelos) for _ in range(50)],\n",
    "    'PrecioPorDía': [random.randint(20, 100) for _ in range(50)]\n",
    "}\n",
    "\n",
    "# Crear DataFrame y guardar en CSV\n",
    "dim_vehículo = pd.DataFrame(vehículos)\n",
    "dim_vehículo.to_csv('dim_vehículo.csv', index=False)\n"
   ]
  },
  {
   "cell_type": "code",
   "execution_count": 8,
   "id": "aaa4fc2d-8ca9-4420-9815-492d808cd0c6",
   "metadata": {},
   "outputs": [],
   "source": [
    "# Datos de ejemplo\n",
    "empleados = {\n",
    "    'EmpleadoID': range(1, 51),\n",
    "    'Nombre': [random.choice(nombres) for _ in range(50)],\n",
    "    'Apellido': [random.choice(apellidos) for _ in range(50)],\n",
    "    'SucursalID': [random.randint(1, 10) for _ in range(50)]\n",
    "}\n",
    "\n",
    "# Crear DataFrame y guardar en CSV\n",
    "dim_empleado = pd.DataFrame(empleados)\n",
    "dim_empleado.to_csv('dim_empleado.csv', index=False)\n"
   ]
  },
  {
   "cell_type": "code",
   "execution_count": 9,
   "id": "98679a27-0e2e-435e-970f-bc23d07f6bf2",
   "metadata": {},
   "outputs": [],
   "source": [
    "# Generar datos\n",
    "ventas = {\n",
    "    'VentaID': range(1, 101),\n",
    "    'FechaID': [random.randint(1, 100) for _ in range(100)],\n",
    "    'ClienteID': [random.randint(1, 100) for _ in range(100)],\n",
    "    'SucursalID': [random.randint(1, 10) for _ in range(100)],\n",
    "    'VehículoID': [random.randint(1, 50) for _ in range(100)],\n",
    "    'EmpleadoID': [random.randint(1, 50) for _ in range(100)],\n",
    "    'DuraciónDías': [random.randint(1, 15) for _ in range(100)],\n",
    "    'CostoTotal': [random.randint(50, 1500) for _ in range(100)]\n",
    "}\n",
    "\n",
    "# Crear DataFrame y guardar en CSV\n",
    "fact_ventas = pd.DataFrame(ventas)\n",
    "fact_ventas.to_csv('fact_ventas.csv', index=False)\n"
   ]
  },
  {
   "cell_type": "code",
   "execution_count": null,
   "id": "637a946a-bd2e-4459-8c98-297d4ff5dec9",
   "metadata": {},
   "outputs": [],
   "source": []
  }
 ],
 "metadata": {
  "kernelspec": {
   "display_name": "Python 3 (ipykernel)",
   "language": "python",
   "name": "python3"
  },
  "language_info": {
   "codemirror_mode": {
    "name": "ipython",
    "version": 3
   },
   "file_extension": ".py",
   "mimetype": "text/x-python",
   "name": "python",
   "nbconvert_exporter": "python",
   "pygments_lexer": "ipython3",
   "version": "3.12.0"
  }
 },
 "nbformat": 4,
 "nbformat_minor": 5
}
